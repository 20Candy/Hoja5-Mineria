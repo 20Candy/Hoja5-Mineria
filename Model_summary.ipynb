{
 "cells": [
  {
   "cell_type": "markdown",
   "metadata": {
    "jp-MarkdownHeadingCollapsed": true,
    "tags": []
   },
   "source": [
    "## Hoja de Trabajo No. 5\n",
    "\n",
    "A continuación encontrarán un Notebook interactivo desarrollado por Anaconda.org\n",
    "\n",
    "La idea de estet Notebook es repasar lo que hacen diferentes algoritmos (Modelos).  Todos estos modelos han sido estudiados y trabajados en clase, con la excepción de uno.\n",
    "\n",
    "El código utlizado es muy parecido al que se ha desarrollado en clase.  \n",
    "\n",
    "**Problema**\n",
    "\n",
    "Ustedes han sido contratados para ayudar a un herbario de renombre.  Han presentado este código de Anaconda.org al investigador principal y le ha parecido muy interesante.  Sin embargo, el investigador siente que hace fala algo, o que podría hacerse una mejor presentación.\n",
    "\n",
    "Su tarea es ver si es correcto el presentimiento del investigador...¿puede hacerse más eficiente, utilizarse un código más \"legible\", presentarse mejor?\n"
   ]
  },
  {
   "cell_type": "markdown",
   "metadata": {},
   "source": [
    "## 1. Data Set Information:\n",
    "\n",
    "This is perhaps the best known database to be found in the pattern recognition literature. Fisher's paper is a classic in the field and is referenced frequently to this day. (See Duda & Hart, for example.) The data set contains 3 classes of 50 instances each, where each class refers to a type of iris plant. One class is linearly separable from the other 2; the latter are NOT linearly separable from each other.\n",
    "\n",
    "![](https://archive.ics.uci.edu/ml/assets/MLimages/Large53.jpg)"
   ]
  },
  {
   "cell_type": "markdown",
   "metadata": {},
   "source": [
    "## 2. Import Libraries"
   ]
  },
  {
   "cell_type": "code",
   "execution_count": null,
   "metadata": {},
   "outputs": [],
   "source": [
    "import warnings\n",
    "import requests\n",
    "import pandas as pd\n",
    "import matplotlib.pyplot as plt\n",
    "import seaborn as sns\n",
    "from sklearn.model_selection import train_test_split\n",
    "from sklearn.model_selection import cross_val_score\n",
    "from sklearn.model_selection import GridSearchCV\n",
    "from sklearn.metrics import classification_report\n",
    "from sklearn.metrics import confusion_matrix\n",
    "from sklearn.metrics import accuracy_score\n",
    "from sklearn.linear_model import LogisticRegression\n",
    "from sklearn.tree import DecisionTreeClassifier\n",
    "from sklearn.neighbors import KNeighborsClassifier\n",
    "from sklearn.discriminant_analysis import LinearDiscriminantAnalysis\n",
    "from sklearn.naive_bayes import GaussianNB\n",
    "from sklearn.svm import SVC\n",
    "\n",
    "\n",
    "warnings.filterwarnings(\"ignore\")"
   ]
  },
  {
   "cell_type": "markdown",
   "metadata": {},
   "source": [
    "## Load Dataset\n",
    "\n",
    "Loading .csv dataset from url provided by kaggle, using Pandas"
   ]
  },
  {
   "cell_type": "code",
   "execution_count": null,
   "metadata": {},
   "outputs": [],
   "source": [
    "url = 'https://jupyterlite.anaconda.cloud/b0df9a1c-3954-4c78-96e6-07ab473bea1a/files/iris/iris.csv'\n",
    "response = requests.get(url)\n",
    "csv_data = response.content.decode('utf-8')\n",
    "dataset = pd.read_csv(io.StringIO(csv_data))"
   ]
  },
  {
   "attachments": {},
   "cell_type": "markdown",
   "metadata": {},
   "source": [
    "## 3. Sumarize the Dataset\n",
    "\n",
    "The data has 150 instances and 5 attributes "
   ]
  },
  {
   "cell_type": "code",
   "execution_count": null,
   "metadata": {},
   "outputs": [],
   "source": [
    "# Print the shape of the data\n",
    "print(dataset.shape)"
   ]
  },
  {
   "attachments": {},
   "cell_type": "markdown",
   "metadata": {},
   "source": [
    "The 5 attributes are:\n",
    "- Id: numerical identifier of each record\n",
    "- SepalLengthCm: length of the sepal in centimeters (numerical variable)\n",
    "- SepalWidthCm: width of the sepal in centimeters (numerical variable)\n",
    "- PetalLengthCm: petal length in centimeters (numerical variable)\n",
    "- PetalWidthCm: petal width in centimeters (numerical variable)\n",
    "\n",
    "In summary, all numerical variables measure different dimensions of Iris flower sepals and petals, while the categorical variable indicates to which species each record belongs."
   ]
  },
  {
   "cell_type": "code",
   "execution_count": null,
   "metadata": {},
   "outputs": [],
   "source": [
    "# Print the first rows of the data\n",
    "print(dataset.head())"
   ]
  },
  {
   "attachments": {},
   "cell_type": "markdown",
   "metadata": {},
   "source": [
    "Some conclusions that can be drawn from the descriptive statistics of the data set are:\n",
    "\n",
    "The numerical variables have different ranges and standard deviations. For example, sepal length ranges from 4.3 cm to 7.9 cm, while petal width ranges from 0.1 cm to 2.5 cm. In addition, the standard deviations for petal length and petal width are much larger than the standard deviations for sepal length and sepal width.\n",
    "\n",
    "The median sepal length is 5.84 cm, the median sepal width is 3.05 cm, the median petal length is 3.76 cm, and the median petal width is 1.19 cm.\n",
    "\n",
    "The median sepal length is 5.8 cm, the median sepal width is 3.0 cm, the median petal length is 4.35 cm and the median petal width is 1.3 cm.\n",
    "\n",
    "Most of the values in the numerical variables are close to their respective 25% and 75% quartiles, suggesting that the distribution of the variables is not highly skewed to one side."
   ]
  },
  {
   "cell_type": "code",
   "execution_count": null,
   "metadata": {},
   "outputs": [],
   "source": [
    "# Describe some basic statistics about the data\n",
    "dataset.iloc[:,1:].describe()"
   ]
  },
  {
   "cell_type": "markdown",
   "metadata": {},
   "source": [
    "## 4. Data cleansing"
   ]
  },
  {
   "attachments": {},
   "cell_type": "markdown",
   "metadata": {},
   "source": [
    "Backing up the data set is a good practice that helps ensure data integrity and protect against errors and loss of information."
   ]
  },
  {
   "cell_type": "code",
   "execution_count": null,
   "metadata": {},
   "outputs": [],
   "source": [
    "# First, create a dataset backup\n",
    "dataset_backup = dataset"
   ]
  },
  {
   "attachments": {},
   "cell_type": "markdown",
   "metadata": {},
   "source": [
    "It is important to ensure that there is no missing data. If there is any missing data, it is replaced by the mode or average of the column. However, in this case there is no missing data. "
   ]
  },
  {
   "cell_type": "code",
   "execution_count": null,
   "metadata": {},
   "outputs": [],
   "source": [
    "# graph to show missing values\n",
    "sns.heatmap(dataset.isnull(), yticklabels = False, cbar = False, cmap = 'viridis')"
   ]
  },
  {
   "attachments": {},
   "cell_type": "markdown",
   "metadata": {},
   "source": [
    "The \"Id\" column has been removed because this column does not provide relevant information for further analysis or modeling and only serves as a unique identifier for each record in the dataset. Therefore, removing this column will not affect further analysis or modeling and may simplify the data set."
   ]
  },
  {
   "cell_type": "code",
   "execution_count": null,
   "metadata": {},
   "outputs": [],
   "source": [
    "# Remove first column - Id\n",
    "dataset = dataset.drop('Id',axis=1)\n",
    "print(dataset.head())"
   ]
  },
  {
   "attachments": {},
   "cell_type": "markdown",
   "metadata": {},
   "source": [
    "It is important to verify that the data is balanced as this can significantly affect the accuracy and performance of the models.\n",
    "\n",
    "In this case, it can be seen that they are balanced so no changes were made. "
   ]
  },
  {
   "cell_type": "code",
   "execution_count": null,
   "metadata": {},
   "outputs": [],
   "source": [
    "# Class distribution, to see the number of rows that belong to each species\n",
    "print(dataset.groupby('Species').size())"
   ]
  },
  {
   "cell_type": "markdown",
   "metadata": {},
   "source": [
    "## 5. Data Visualization"
   ]
  },
  {
   "cell_type": "markdown",
   "metadata": {},
   "source": [
    "### 5.1. Univariate Plots"
   ]
  },
  {
   "attachments": {},
   "cell_type": "markdown",
   "metadata": {},
   "source": [
    "Box-and-whisker plots were plotted to represent the distribution of a set of numerical data. \n",
    "\n",
    "#DESCRIPCION DE LAS GRAFICAS"
   ]
  },
  {
   "cell_type": "code",
   "execution_count": null,
   "metadata": {},
   "outputs": [],
   "source": [
    "# Box and whisker plots. Univariate plots, one for each individual variable\n",
    "fig=plt.figure(figsize=(10,5), dpi=100, facecolor='w', edgecolor='k')\n",
    "dataset.plot(kind='box', subplots=True, layout=(2,2), sharex=False, sharey=False)\n",
    "plt.show()"
   ]
  },
  {
   "attachments": {},
   "cell_type": "markdown",
   "metadata": {},
   "source": [
    "Histograms were also made, from which the following observations were made:\n",
    "#DESCRIPCION DE LAS GRAFICAS"
   ]
  },
  {
   "cell_type": "code",
   "execution_count": null,
   "metadata": {},
   "outputs": [],
   "source": [
    "# Histograms. Create a histogram of each input variable to get an idea of the distribution\n",
    "dataset.hist()\n",
    "plt.show()"
   ]
  },
  {
   "cell_type": "markdown",
   "metadata": {},
   "source": [
    "### 5.2. Multivariate Plots"
   ]
  },
  {
   "attachments": {},
   "cell_type": "markdown",
   "metadata": {},
   "source": [
    "Scatterplot matrices were made to view all pairs of attributes and to detect correlations and relationships. \n"
   ]
  },
  {
   "cell_type": "code",
   "execution_count": null,
   "metadata": {},
   "outputs": [],
   "source": [
    "# Scatter plot matrix\n",
    "scatter_matrix(dataset)\n",
    "plt.show()"
   ]
  },
  {
   "cell_type": "markdown",
   "metadata": {},
   "source": [
    "## 6. Evaluate Some Algorithms"
   ]
  },
  {
   "attachments": {},
   "cell_type": "markdown",
   "metadata": {},
   "source": [
    "In this section, the dataset was divided in two, 80% to train, evaluate and select among our models and 20% retained as validation dataset. \n",
    "\n",
    "Then, different models were programmed for the problem and their accuracy was evaluated. "
   ]
  },
  {
   "cell_type": "markdown",
   "metadata": {},
   "source": [
    "### 6.1. Create a validation dataset"
   ]
  },
  {
   "attachments": {},
   "cell_type": "markdown",
   "metadata": {},
   "source": [
    "The original data set is divided into two separate sets: one for training and one for validation. The purpose of doing this is to allow the model to be trained on one dataset and its performance evaluated on a separate dataset.\n",
    "\n",
    "The X variable contains the feature (predictor) columns of the data set, while the y variable contains the target variable column (in this case, the species of the flower). "
   ]
  },
  {
   "cell_type": "code",
   "execution_count": null,
   "metadata": {},
   "outputs": [],
   "source": [
    "# Split-out validation dataset\n",
    "array = dataset.values\n",
    "# All rows and colums except species column\n",
    "X = array[:,0:4]\n",
    "# Species column\n",
    "y = array[:,4]\n",
    "X_train, X_validation, Y_train, Y_validation = train_test_split(X, y, test_size=0.20, random_state=1)"
   ]
  },
  {
   "cell_type": "markdown",
   "metadata": {},
   "source": [
    "### 6.2. Build models and evaluate them"
   ]
  },
  {
   "attachments": {},
   "cell_type": "markdown",
   "metadata": {},
   "source": [
    "We will use stratified 10-fold cross validation to estimate model accuracy: split the dataset in 10 parts, train on 9 and test on 1 and repeat for all combinations of train-test splits. \n",
    "\n",
    "In addition, the hyperparameters of the models were adjusted to improve their performance, using grid search.\n",
    "\n",
    "\n",
    "Test 6 different algorithms:\n",
    "\n",
    "1. Logistic Regression (LR)\n",
    "2. Linear Discriminant Analysis (LDA)\n",
    "3. K-Nearest Neighbors (KNN)\n",
    "4. Classification and Regression Trees (CART)\n",
    "5. Gaussian Naive Bayes (NB)\n",
    "6. Support Vector Machines (SVM)"
   ]
  },
  {
   "cell_type": "code",
   "execution_count": null,
   "metadata": {},
   "outputs": [
    {
     "name": "stdout",
     "output_type": "stream",
     "text": [
      "LR: 0.966667 (0.040825)\n",
      "LDA: 0.975000 (0.038188)\n",
      "KNN: 0.975000 (0.038188)\n",
      "CART: 0.958333 (0.055902)\n",
      "NB: 0.950000 (0.055277)\n",
      "SVM: 0.983333 (0.033333)\n"
     ]
    }
   ],
   "source": [
    "from sklearn.model_selection import GridSearchCV\n",
    "\n",
    "# define models to evaluate\n",
    "models = []\n",
    "models.append(('LR', LogisticRegression(solver='liblinear', multi_class='ovr')))\n",
    "models.append(('LDA', LinearDiscriminantAnalysis()))\n",
    "models.append(('KNN', KNeighborsClassifier()))\n",
    "models.append(('CART', DecisionTreeClassifier()))\n",
    "models.append(('NB', GaussianNB()))\n",
    "models.append(('SVM', SVC(gamma='auto')))\n",
    "\n",
    "# define hyperparameters for grid search\n",
    "param_grid = {\n",
    "    'LR': {'C': [0.1, 1, 10]},\n",
    "    'LDA': {'solver': ['svd', 'lsqr']},\n",
    "    'KNN': {'n_neighbors': [3, 5, 7]},\n",
    "    'CART': {'max_depth': [3, 5, 7]},\n",
    "    'NB': {},\n",
    "    'SVM': {'C': [0.1, 1, 10], 'kernel': ['linear', 'rbf']}\n",
    "}\n",
    "\n",
    "# evaluate each model using grid search\n",
    "results = []\n",
    "names = []\n",
    "for name, model in models:\n",
    "    kfold = StratifiedKFold(n_splits=10, random_state=1, shuffle=True)\n",
    "    \n",
    "    if name in param_grid:\n",
    "        grid = GridSearchCV(estimator=model, param_grid=param_grid[name], cv=kfold, scoring='accuracy')\n",
    "        grid_result = grid.fit(X_train, Y_train)\n",
    "        best_params = grid_result.best_params_\n",
    "        model = model.set_params(**best_params)\n",
    "        \n",
    "    cv_results = cross_val_score(model, X_train, Y_train, cv=kfold, scoring='accuracy')\n",
    "    results.append(cv_results)\n",
    "    names.append(name)\n",
    "    print('%s: %f (%f)' % (name, cv_results.mean(), cv_results.std()))\n"
   ]
  },
  {
   "attachments": {},
   "cell_type": "markdown",
   "metadata": {},
   "source": [
    "As can be seen from the above results, the best model for the present problem was Support Vector Machines (SVM) with the highest accuracy of 98%, followed by Linear Discriminant Analysis (LDA) with an accuracy of 97.5%.\n",
    "\n",
    "The models with the lowest accuracy were Gaussian Naive Bayes (NB) with 95% and Classification and Regression Trees (CART) with almost 96%, although it should be noted that these are not bad accuracies either. \n",
    "\n",
    "These results can be seen in more detail in the following box-and-whisker plots."
   ]
  },
  {
   "cell_type": "code",
   "execution_count": null,
   "metadata": {},
   "outputs": [
    {
     "name": "stdout",
     "output_type": "stream",
     "text": [
      "['LR', 'LDA', 'KNN', 'CART', 'NB', 'SVM']\n",
      "[array([1.        , 1.        , 1.        , 1.        , 0.91666667,\n",
      "       0.91666667, 1.        , 1.        , 0.91666667, 0.91666667]), array([1.        , 1.        , 1.        , 0.91666667, 0.91666667,\n",
      "       1.        , 1.        , 1.        , 0.91666667, 1.        ]), array([1.        , 0.91666667, 1.        , 1.        , 0.91666667,\n",
      "       1.        , 1.        , 1.        , 0.91666667, 1.        ]), array([1.        , 0.91666667, 1.        , 1.        , 0.91666667,\n",
      "       0.91666667, 1.        , 1.        , 0.83333333, 1.        ]), array([1.        , 0.91666667, 1.        , 0.91666667, 0.91666667,\n",
      "       0.91666667, 1.        , 1.        , 0.83333333, 1.        ]), array([1.        , 1.        , 1.        , 1.        , 0.91666667,\n",
      "       1.        , 1.        , 1.        , 0.91666667, 1.        ])]\n"
     ]
    },
    {
     "data": {
      "image/png": "[encoded data removed]",
      "text/plain": [
       "<Figure size 640x480 with 1 Axes>"
      ]
     },
     "metadata": {},
     "output_type": "display_data"
    }
   ],
   "source": [
    "# Compare algorithms\n",
    "plt.boxplot(results, labels=names)\n",
    "plt.title('Algorithm Comparison')\n",
    "plt.show()"
   ]
  },
  {
   "cell_type": "markdown",
   "metadata": {},
   "source": [
    "## 7. Making predictions and evaluate them"
   ]
  },
  {
   "cell_type": "code",
   "execution_count": null,
   "metadata": {},
   "outputs": [],
   "source": [
    "# Make predictions on validation dataset\n",
    "model = SVC(gamma='auto')\n",
    "model.fit(X_train, Y_train)\n",
    "predictions = model.predict(X_validation)"
   ]
  },
  {
   "cell_type": "code",
   "execution_count": null,
   "metadata": {},
   "outputs": [],
   "source": [
    "# Evaluate predictions by comparing them to the expected results in the validation set\n",
    "print(accuracy_score(Y_validation, predictions))\n",
    "print(confusion_matrix(Y_validation, predictions))\n",
    "print(classification_report(Y_validation, predictions))"
   ]
  },
  {
   "cell_type": "code",
   "execution_count": null,
   "metadata": {},
   "outputs": [],
   "source": []
  }
 ],
 "metadata": {
  "kernelspec": {
   "display_name": "Python 3 (ipykernel)",
   "language": "python",
   "name": "python3"
  },
  "language_info": {
   "codemirror_mode": {
    "name": "ipython",
    "version": 3
   },
   "file_extension": ".py",
   "mimetype": "text/x-python",
   "name": "python",
   "nbconvert_exporter": "python",
   "pygments_lexer": "ipython3",
   "version": "3.9.15"
  }
 },
 "nbformat": 4,
 "nbformat_minor": 4
}
